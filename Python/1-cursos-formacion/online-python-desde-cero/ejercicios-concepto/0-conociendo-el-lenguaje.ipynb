{
 "cells": [
  {
   "cell_type": "markdown",
   "metadata": {},
   "source": [
    "# Salida por pantalla y formateo\n",
    "\n",
    "Uso de {} para sustituir parametros introducidos\n",
    "ordenadamente  .format(par1,par2,par3,...,parn)"
   ]
  },
  {
   "cell_type": "code",
   "execution_count": 63,
   "metadata": {},
   "outputs": [
    {
     "name": "stdout",
     "output_type": "stream",
     "text": [
      "hola mundo!\n"
     ]
    }
   ],
   "source": [
    "var_saludo = \"hola \"\n",
    "var_mundo = \"mundo!\"\n",
    "print(\"{}{}\".format(var_saludo,var_mundo))\n"
   ]
  },
  {
   "cell_type": "markdown",
   "metadata": {},
   "source": [
    "# Comentarios"
   ]
  },
  {
   "cell_type": "code",
   "execution_count": null,
   "metadata": {},
   "outputs": [],
   "source": [
    "# Complentario simple\n",
    "\n",
    "\n",
    "#def abc(a: int, c = [1,2]):\n",
    "\"\"\"_summary_\n",
    "\n",
    "    Args:\n",
    "        a (int): _description_\n",
    "        c (list, optional): _description_. Defaults to [1,2].\n",
    "\n",
    "    Raises:\n",
    "        AssertionError: _description_\n",
    "\n",
    "    Returns:\n",
    "        _type_: _description_\n",
    "\"\"\"\n",
    "\n"
   ]
  },
  {
   "cell_type": "markdown",
   "metadata": {},
   "source": [
    "# Tipos de datos \n",
    "\n",
    "Usaremos la funcion bool()"
   ]
  },
  {
   "cell_type": "code",
   "execution_count": 50,
   "metadata": {},
   "outputs": [
    {
     "name": "stdout",
     "output_type": "stream",
     "text": [
      "<class 'str'>\n",
      "<class 'int'>\n",
      "<class 'float'>\n",
      "Ojo no tenemos tipo char <class 'str'>\n",
      "<class 'bool'>\n",
      "<class 'bool'>\n",
      "<class 'complex'>\n",
      "\n",
      " uso de la funcion bool\n",
      "False\n",
      "True\n"
     ]
    }
   ],
   "source": [
    "var_cadena = \"cadena de caracteres\"\n",
    "var_entero = 1\n",
    "var_double = 13.0\n",
    "var_char = 'a'\n",
    "var_false = False\n",
    "var_true = True\n",
    "var_complejos = 1+2j\n",
    "\n",
    "print(type(var_cadena))\n",
    "print(type(var_entero))\n",
    "print(type(var_double))\n",
    "print('Ojo no tenemos tipo char ' + str(type(var_char)))\n",
    "print(type(var_false))\n",
    "print(type(var_true))\n",
    "print(type(var_complejos))\n",
    "\n",
    "#Uso de la funcion bool\n",
    "print(\"\\nUso de la funcion bool\")\n",
    "var_x = 0\n",
    "print(bool(var_x))\n",
    "var_x = 123\n",
    "print(bool(var_x))"
   ]
  },
  {
   "cell_type": "markdown",
   "metadata": {},
   "source": [
    "# Funciones básicas de la api python\n",
    "\n",
    "* bool() devuelve true si es un valor > 0\n",
    "* len() devuelve el tamaño de una cadena de caracteres\n",
    "* size()"
   ]
  },
  {
   "cell_type": "code",
   "execution_count": 66,
   "metadata": {},
   "outputs": [
    {
     "name": "stdout",
     "output_type": "stream",
     "text": [
      "True\n",
      "5\n"
     ]
    },
    {
     "ename": "NameError",
     "evalue": "name 'size' is not defined",
     "output_type": "error",
     "traceback": [
      "\u001b[0;31m---------------------------------------------------------------------------\u001b[0m",
      "\u001b[0;31mNameError\u001b[0m                                 Traceback (most recent call last)",
      "Cell \u001b[0;32mIn [66], line 4\u001b[0m\n\u001b[1;32m      2\u001b[0m \u001b[39mprint\u001b[39m(\u001b[39mbool\u001b[39m(\u001b[39m1\u001b[39m))\n\u001b[1;32m      3\u001b[0m \u001b[39mprint\u001b[39m(\u001b[39mlen\u001b[39m(\u001b[39m\"\u001b[39m\u001b[39mlucas\u001b[39m\u001b[39m\"\u001b[39m))\n\u001b[0;32m----> 4\u001b[0m \u001b[39mprint\u001b[39m(size(\u001b[39mtype\u001b[39m(var_int)))\n",
      "\u001b[0;31mNameError\u001b[0m: name 'size' is not defined"
     ]
    }
   ],
   "source": [
    "var_int = 1\n",
    "print(bool(1))\n",
    "print(len(\"lucas\"))"
   ]
  },
  {
   "cell_type": "code",
   "execution_count": null,
   "metadata": {},
   "outputs": [],
   "source": [
    "# Operadores aritméticas básicas\n",
    "\n",
    "Existe una prioridad entre las operaciones -> cheatsheet\n",
    "para saltarse la prioridad usamos parentesis()"
   ]
  },
  {
   "cell_type": "code",
   "execution_count": 38,
   "metadata": {},
   "outputs": [
    {
     "name": "stdout",
     "output_type": "stream",
     "text": [
      "-1.0\n",
      "-2.6\n",
      "0\n",
      "64\n"
     ]
    }
   ],
   "source": [
    "var_operar = 1 + 2 - 4 * 5 / 5 // 1\n",
    "var_operar_parentesis = 1 + ((2  - 4 * 5) / (5 // 1))\n",
    "#Por ejemplo nos ayuda a definir si es par o no\n",
    "var_modulo = 10%2\n",
    "#Nos permite elevar un numero x a la potencia Y x^y\n",
    "#Donde x = 2 e y = 6\n",
    "var_exponente = 2**6\n",
    "print(var_operar)\n",
    "print(var_operar_parentesis)\n",
    "print(var_modulo)\n",
    "print(var_exponente)    "
   ]
  },
  {
   "cell_type": "markdown",
   "metadata": {},
   "source": [
    "# Operadores lógicos"
   ]
  },
  {
   "cell_type": "code",
   "execution_count": 51,
   "metadata": {},
   "outputs": [
    {
     "name": "stdout",
     "output_type": "stream",
     "text": [
      "False\n",
      "True\n",
      "False\n"
     ]
    }
   ],
   "source": [
    "print(True and False)\n",
    "print(True or False)\n",
    "print(not True and False)"
   ]
  },
  {
   "cell_type": "markdown",
   "metadata": {},
   "source": [
    "# Operadores relaciones\n"
   ]
  },
  {
   "cell_type": "code",
   "execution_count": 54,
   "metadata": {},
   "outputs": [
    {
     "name": "stdout",
     "output_type": "stream",
     "text": [
      "True\n",
      "False\n",
      "True\n",
      "False\n",
      "True\n",
      "False\n"
     ]
    }
   ],
   "source": [
    "print(1 < 2)\n",
    "print(1 > 2)\n",
    "print(1 <= 2)\n",
    "print(1 >= 2)\n",
    "print(1 != 2)\n",
    "print (1 == 2)"
   ]
  },
  {
   "cell_type": "markdown",
   "metadata": {},
   "source": [
    "Entrada por pantalla        "
   ]
  },
  {
   "cell_type": "code",
   "execution_count": 56,
   "metadata": {},
   "outputs": [
    {
     "ename": "NameError",
     "evalue": "name 'raw_input' is not defined",
     "output_type": "error",
     "traceback": [
      "\u001b[0;31m---------------------------------------------------------------------------\u001b[0m",
      "\u001b[0;31mNameError\u001b[0m                                 Traceback (most recent call last)",
      "Cell \u001b[0;32mIn [56], line 1\u001b[0m\n\u001b[0;32m----> 1\u001b[0m nombre \u001b[39m=\u001b[39m raw_input(\u001b[39m\"\u001b[39m\u001b[39mEscriba su nombre : \u001b[39m\u001b[39m\"\u001b[39m)\n\u001b[1;32m      2\u001b[0m edad \u001b[39m=\u001b[39m \u001b[39mint\u001b[39m(raw_input(\u001b[39m\"\u001b[39m\u001b[39mSu edad : \u001b[39m\u001b[39m\"\u001b[39m))\n\u001b[1;32m      3\u001b[0m \u001b[39mprint\u001b[39m(\u001b[39m\"\u001b[39m\u001b[39mHola \u001b[39m\u001b[39m{}\u001b[39;00m\u001b[39m, su edad es \u001b[39m\u001b[39m{}\u001b[39;00m\u001b[39m\"\u001b[39m\u001b[39m.\u001b[39mformat(nombre,edad))\n",
      "\u001b[0;31mNameError\u001b[0m: name 'raw_input' is not defined"
     ]
    }
   ],
   "source": [
    "#En Jupiter no funciona bien la entrada por consola\n",
    "#Por tanto para comprobar el funcionamiento debemos\n",
    "#ejecutarlo en un fichero aparte.\n",
    "nombre = raw_input(\"Escriba su nombre : \")\n",
    "edad = int(raw_input(\"Su edad : \"))\n",
    "print(\"Hola {}, su edad es {}\".format(nombre,edad))"
   ]
  }
 ],
 "metadata": {
  "kernelspec": {
   "display_name": "Python 3.9.2 64-bit",
   "language": "python",
   "name": "python3"
  },
  "language_info": {
   "codemirror_mode": {
    "name": "ipython",
    "version": 3
   },
   "file_extension": ".py",
   "mimetype": "text/x-python",
   "name": "python",
   "nbconvert_exporter": "python",
   "pygments_lexer": "ipython3",
   "version": "3.9.2"
  },
  "orig_nbformat": 4,
  "vscode": {
   "interpreter": {
    "hash": "e7370f93d1d0cde622a1f8e1c04877d8463912d04d973331ad4851f04de6915a"
   }
  }
 },
 "nbformat": 4,
 "nbformat_minor": 2
}
