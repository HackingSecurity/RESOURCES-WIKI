{
 "cells": [
  {
   "cell_type": "markdown",
   "metadata": {},
   "source": [
    "# Diccionarios\n",
    "\n",
    "Los diccionarios en Python tienen las siguientes características:\n",
    "\n",
    "Mantienen el orden en el que se insertan las claves.\n",
    "\n",
    "Son mutables, con lo que admiten añadir, borrar y modificar sus elementos.\n",
    "\n",
    "Las claves deben ser únicas. A menudo se utilizan las cadenas de texto como claves, pero en realidad podría ser cualquier tipo de datos inmutable: enteros, flotantes, tuplas (entre otros).\n",
    "\n",
    "Tienen un acceso muy rápido a sus elementos, debido a la forma en la que están implementados internamente \n"
   ]
  },
  {
   "cell_type": "code",
   "execution_count": 1,
   "metadata": {},
   "outputs": [
    {
     "name": "stdout",
     "output_type": "stream",
     "text": [
      "<class 'dict'>\n"
     ]
    }
   ],
   "source": [
    "#Definicion\n",
    "dic = dict()\n",
    "print(type(dic))\n",
    "\n",
    "\n"
   ]
  },
  {
   "cell_type": "code",
   "execution_count": 7,
   "metadata": {},
   "outputs": [
    {
     "name": "stdout",
     "output_type": "stream",
     "text": [
      "{'IP': '192.168.1.2'}\n",
      "IP\n"
     ]
    }
   ],
   "source": [
    "#Quiero una clave ip y valor ip_correspondiente\n",
    "dic = {\"IP\":\"192.168.1.1\", \"PORTS\":80}\n",
    "\n",
    "print(dic)\n",
    "\n",
    "for clave in dic:\n",
    "    print(clave)"
   ]
  }
 ],
 "metadata": {
  "kernelspec": {
   "display_name": "Python 3",
   "language": "python",
   "name": "python3"
  },
  "language_info": {
   "codemirror_mode": {
    "name": "ipython",
    "version": 3
   },
   "file_extension": ".py",
   "mimetype": "text/x-python",
   "name": "python",
   "nbconvert_exporter": "python",
   "pygments_lexer": "ipython3",
   "version": "3.8.10"
  },
  "orig_nbformat": 4,
  "vscode": {
   "interpreter": {
    "hash": "916dbcbb3f70747c44a77c7bcd40155683ae19c65e1c03b4aa3499c5328201f1"
   }
  }
 },
 "nbformat": 4,
 "nbformat_minor": 2
}
