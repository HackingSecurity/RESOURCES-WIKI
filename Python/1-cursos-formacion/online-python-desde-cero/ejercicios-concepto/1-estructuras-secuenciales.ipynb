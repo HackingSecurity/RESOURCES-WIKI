{
 "cells": [
  {
   "cell_type": "markdown",
   "metadata": {},
   "source": [
    "# Estructuras condicionales (secuenciales)\n",
    "\n",
    "Aquí podemos utilizar todos la operaciones aritméticas, logicas y de relación"
   ]
  },
  {
   "cell_type": "code",
   "execution_count": 1,
   "metadata": {},
   "outputs": [
    {
     "name": "stdout",
     "output_type": "stream",
     "text": [
      "2 es mayor que  1\n",
      "1 y 2 son distintos\n"
     ]
    }
   ],
   "source": [
    "#if \n",
    "#Provoca bifurcaciones\n",
    "\n",
    "a, b = 1, 2\n",
    "if(a > b):\n",
    "    print (\"{} es mayor que  {}\".format(a,b))\n",
    "else:\n",
    "    print(\"{} es mayor que  {}\".format(b,a))\n",
    "    \n",
    "    \n",
    "if(a > b):\n",
    "    print(\"{} es mayor que  {}\".format(a,b))\n",
    "elif(a > b):\n",
    "    print(\"{} es mayor que  {}\".format(b,a))\n",
    "elif(a == b):\n",
    "    print(\"{} y {} son iguales\".format(a,b))\n",
    "else:\n",
    "    print(\"{} y {} son distintos\".format(a,b))"
   ]
  },
  {
   "cell_type": "code",
   "execution_count": 3,
   "metadata": {},
   "outputs": [
    {
     "name": "stdout",
     "output_type": "stream",
     "text": [
      "1\n",
      "2\n",
      "3\n",
      "4\n",
      "5\n",
      "6\n",
      "7\n",
      "8\n",
      "9\n"
     ]
    }
   ],
   "source": [
    "#while\n",
    "# busqueda\n",
    "var_contador = 1\n",
    "while var_contador < 10:\n",
    "    print(var_contador) \n",
    "    var_contador = var_contador + 1\n",
    "    \n",
    "    "
   ]
  },
  {
   "cell_type": "code",
   "execution_count": 7,
   "metadata": {},
   "outputs": [
    {
     "name": "stdout",
     "output_type": "stream",
     "text": [
      "0\n",
      "1\n",
      "2\n",
      "3\n",
      "4\n",
      "5\n",
      "6\n",
      "7\n",
      "8\n",
      "9\n",
      "P\n",
      "y\n",
      "t\n",
      "h\n",
      "o\n",
      "n\n"
     ]
    }
   ],
   "source": [
    "#for\n",
    "#recorrido\n",
    "var_max_num = 10\n",
    "for x in range(0, var_max_num):\n",
    "    print(x) \n",
    "    \n",
    "#Muy interesante como recorrer un array de caracteres\n",
    "#Esto es posible por que está relacionandose con objetos\n",
    "#iterables -> por lo tanto pueden acceder por un indice\n",
    "var_string = \"Python\"\n",
    "for char in var_string:\n",
    "    print(char)\n"
   ]
  }
 ],
 "metadata": {
  "kernelspec": {
   "display_name": "Python 3.9.2 64-bit",
   "language": "python",
   "name": "python3"
  },
  "language_info": {
   "codemirror_mode": {
    "name": "ipython",
    "version": 3
   },
   "file_extension": ".py",
   "mimetype": "text/x-python",
   "name": "python",
   "nbconvert_exporter": "python",
   "pygments_lexer": "ipython3",
   "version": "3.9.2"
  },
  "orig_nbformat": 4,
  "vscode": {
   "interpreter": {
    "hash": "e7370f93d1d0cde622a1f8e1c04877d8463912d04d973331ad4851f04de6915a"
   }
  }
 },
 "nbformat": 4,
 "nbformat_minor": 2
}
