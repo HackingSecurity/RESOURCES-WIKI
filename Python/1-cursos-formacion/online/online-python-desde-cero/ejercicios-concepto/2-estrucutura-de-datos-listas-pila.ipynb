{
 "cells": [
  {
   "cell_type": "markdown",
   "metadata": {},
   "source": [
    "# Estructura de datos"
   ]
  },
  {
   "cell_type": "markdown",
   "metadata": {},
   "source": [
    "# Listas  -> TAD (tipo abstracto de datos) Pila\n",
    "Se usa [] en las listas\n",
    "\n",
    "# Pila\n",
    "Una pila  es un estructura de datos de entrada ordenadas tales que solo se introduce y elimina por un extremo (cima o top)\n",
    "\n",
    "Implementa LIFO (Last In -  First Out)"
   ]
  },
  {
   "cell_type": "code",
   "execution_count": 3,
   "metadata": {},
   "outputs": [
    {
     "name": "stdout",
     "output_type": "stream",
     "text": [
      "<class 'list'>\n"
     ]
    }
   ],
   "source": [
    "#Nos damos cuenta que es tipo lista\n",
    "lista = list()\n",
    "print(type(lista))"
   ]
  },
  {
   "cell_type": "markdown",
   "metadata": {},
   "source": [
    "# Familiarizarse con las listas\n"
   ]
  },
  {
   "cell_type": "code",
   "execution_count": 8,
   "metadata": {
    "tags": []
   },
   "outputs": [
    {
     "name": "stdout",
     "output_type": "stream",
     "text": [
      "Lista vacia 9\n",
      "lista completa [1, 2, 3, 4, 5, 'a', 'b', 'hola', True, False]\n",
      "Primero y ultimo elemento de la lista 1,False\n",
      "[1, 2, 3, 4, 5, 'a', 'b', 'hola', True]\n",
      "[1, 2, 3, 4, 5, 'a', 'b', 'hola', True, 'adios']\n",
      "[2, 3, 4, 5, 'a', 'b', 'hola', True, 'adios']\n",
      "Empezamos apartir de una posicion dada  [5, 'a', 'b', 'hola', True, 'adios']\n",
      "Empezamos apartir de una posicion dada  [2, 3, 4, 5, 'a', 'b', 'hola', True, 'adios']\n",
      "['H', 'o', 'l', 'a!']\n",
      "Hola!\n"
     ]
    }
   ],
   "source": [
    "#Lista vacia\n",
    "print(\"Lista vacia {}\".format(len(lista)))\n",
    "#Inicializar lista\n",
    "lista = [1,2,3,4,5,\"a\",\"b\",\"hola\",True,False]\n",
    "print(\"lista completa {}\".format(lista))\n",
    "\n",
    "#Acceder a posicones de la lista\n",
    "print(\"Primero y ultimo elemento de la lista {},{}\".format(lista[0],lista[len(lista)-1]))\n",
    "\n",
    "#Eleminar el ultimo elemento, es decir el ultimo que ha entradao LIFO\n",
    "lista.pop()\n",
    "print(lista)\n",
    "#Añadir un elmento a la lista\n",
    "lista.append(\"adios\")\n",
    "print(lista)\n",
    "\n",
    "#puedo eliminar un posicion de una lista\n",
    "del lista[0]\n",
    "print(lista)\n",
    "\n",
    "#Empieza apartir de una posicion dada\n",
    "print(\"Empezamos apartir de una posicion dada  {}\".format(lista[3:]))\n",
    "print(\"Empezamos apartir de una posicion dada  {}\".format(lista[:]))\n",
    "#Tranforma nuesta variable a lista a una cadena de caracteres (importante que sean caracteres o cadenas de caracteres)\n",
    "lista2 = ['H','o','l','a!']\n",
    "print(lista2)\n",
    "lista2 = ''.join(lista2)\n",
    "print(lista2)"
   ]
  },
  {
   "cell_type": "markdown",
   "metadata": {},
   "source": [
    "# Recorrido en una lista"
   ]
  },
  {
   "cell_type": "code",
   "execution_count": 53,
   "metadata": {},
   "outputs": [
    {
     "name": "stdout",
     "output_type": "stream",
     "text": [
      "2\n",
      "3\n",
      "4\n",
      "5\n",
      "a\n",
      "b\n",
      "hola\n",
      "True\n",
      "adios\n",
      "4\n",
      "5\n",
      "6\n",
      "7\n"
     ]
    }
   ],
   "source": [
    "#Recorrer la lista complenta\n",
    "for x in lista:\n",
    "    print(x)\n",
    "    \n",
    "for x in range((len(lista)//2), (len(lista)-1)):\n",
    "    print(x)"
   ]
  }
 ],
 "metadata": {
  "kernelspec": {
   "display_name": "Python 3",
   "language": "python",
   "name": "python3"
  },
  "language_info": {
   "codemirror_mode": {
    "name": "ipython",
    "version": 3
   },
   "file_extension": ".py",
   "mimetype": "text/x-python",
   "name": "python",
   "nbconvert_exporter": "python",
   "pygments_lexer": "ipython3",
   "version": "3.8.10"
  },
  "orig_nbformat": 4,
  "vscode": {
   "interpreter": {
    "hash": "916dbcbb3f70747c44a77c7bcd40155683ae19c65e1c03b4aa3499c5328201f1"
   }
  }
 },
 "nbformat": 4,
 "nbformat_minor": 2
}
